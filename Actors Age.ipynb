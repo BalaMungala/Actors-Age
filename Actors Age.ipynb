{
 "cells": [
  {
   "cell_type": "code",
   "execution_count": 1,
   "metadata": {},
   "outputs": [
    {
     "name": "stderr",
     "output_type": "stream",
     "text": [
      "Using TensorFlow backend.\n"
     ]
    }
   ],
   "source": [
    "\n",
    "#  Building the CNN\n",
    "\n",
    "# Importing the Keras libraries and packages\n",
    "from keras.models import Sequential\n",
    "from keras.layers import Conv2D\n",
    "from keras.layers import MaxPooling2D\n",
    "from keras.layers import Flatten\n",
    "from keras.layers import Dense\n",
    "from keras.callbacks import ModelCheckpoint\n"
   ]
  },
  {
   "cell_type": "code",
   "execution_count": 3,
   "metadata": {},
   "outputs": [],
   "source": [
    "import numpy as np\n",
    "import pandas as pd\n",
    "dt=pd.read_csv(\"E://Analytics Vidhya//ActorsAge//train_DETg9GD//train.csv\")\n",
    "\n",
    "young=[]\n",
    "middle=[]\n",
    "old=[]\n",
    "\n",
    "\n",
    "young.append(dt.iloc[dt['Class'].values==\"YOUNG\"]['ID'])\n",
    "middle.append(dt.iloc[dt['Class'].values==\"MIDDLE\"]['ID'])\n",
    "old.append(dt.iloc[dt['Class'].values==\"OLD\"]['ID'])\n",
    "\n",
    "            \n",
    "young=np.array(young).ravel()\n",
    "middle=np.array(middle).ravel()\n",
    "old=np.array(old).ravel()        \n",
    "    "
   ]
  },
  {
   "cell_type": "code",
   "execution_count": 4,
   "metadata": {},
   "outputs": [
    {
     "name": "stderr",
     "output_type": "stream",
     "text": [
      "Using TensorFlow backend.\n"
     ]
    }
   ],
   "source": [
    "from keras.preprocessing import image\n",
    "for i in young:\n",
    "        test_image = image.load_img('E://Analytics Vidhya//ActorsAge//train_DETg9GD//Train//{}'.format(i))\n",
    "        test_image.save(\"E://Analytics Vidhya//ActorsAge//train_data//young//{}\".format(i))"
   ]
  },
  {
   "cell_type": "code",
   "execution_count": 5,
   "metadata": {},
   "outputs": [],
   "source": [
    "from keras.preprocessing import image\n",
    "for i in middle:\n",
    "        test_image = image.load_img('E://Analytics Vidhya//ActorsAge//train_DETg9GD//Train//{}'.format(i))\n",
    "        test_image.save(\"E://Analytics Vidhya//ActorsAge//train_data//middle//{}\".format(i))"
   ]
  },
  {
   "cell_type": "code",
   "execution_count": 6,
   "metadata": {},
   "outputs": [],
   "source": [
    "from keras.preprocessing import image\n",
    "for i in old:\n",
    "        test_image = image.load_img('E://Analytics Vidhya//ActorsAge//train_DETg9GD//Train//{}'.format(i))\n",
    "        test_image.save(\"E://Analytics Vidhya//ActorsAge//train_data//old//{}\".format(i))"
   ]
  },
  {
   "cell_type": "code",
   "execution_count": 2,
   "metadata": {},
   "outputs": [],
   "source": [
    "# Initialising the CNN\n",
    "classifier = Sequential()\n",
    "\n",
    "# Step 1 - Convolution\n",
    "classifier.add(Conv2D(32, (3, 3), input_shape = (64, 64, 3), activation = 'relu'))\n",
    "\n",
    "# Step 2 - Pooling\n",
    "classifier.add(MaxPooling2D(pool_size = (2, 2)))\n",
    "\n",
    "\n",
    "classifier.add(Conv2D(32, (3, 3),  activation = 'relu'))\n",
    "classifier.add(MaxPooling2D(pool_size = (2, 2)))\n",
    "\n",
    "classifier.add(Conv2D(32, (3, 3), activation = 'relu'))\n",
    "classifier.add(MaxPooling2D(pool_size = (2, 2)))\n",
    "\n",
    "# Step 3 - Flattening\n",
    "classifier.add(Flatten())\n",
    "\n",
    "# Step 4 - Full connection\n",
    "classifier.add(Dense(units = 128, activation = 'relu'))\n",
    "classifier.add(Dense(units = 3, activation = 'softmax'))"
   ]
  },
  {
   "cell_type": "code",
   "execution_count": 3,
   "metadata": {},
   "outputs": [
    {
     "name": "stdout",
     "output_type": "stream",
     "text": [
      "Found 19906 images belonging to 3 classes.\n"
     ]
    }
   ],
   "source": [
    "classifier.compile(optimizer = 'adam', loss = 'categorical_crossentropy', metrics = ['accuracy'])\n",
    "from keras.preprocessing.image import ImageDataGenerator\n",
    "train_datagen = ImageDataGenerator(rescale = 1./255,\n",
    "                                   shear_range = 0.2,\n",
    "                                   zoom_range = 0.2,\n",
    "                                   horizontal_flip = True)\n",
    "training_set = train_datagen.flow_from_directory('E://Analytics Vidhya//ActorsAge//train_data',\n",
    "                                                 target_size = (64, 64),\n",
    "                                                 batch_size = 32,\n",
    "                                                 class_mode = 'categorical')\n",
    "path=\"E://Analytics Vidhya//ActorsAge//weights//actrimg_classify_weights.{epoch:02d}-{loss:.2f}.hdf5\"\n",
    "mcp=ModelCheckpoint(path,monitor='loss',save_best_only=True,verbose=0)"
   ]
  },
  {
   "cell_type": "code",
   "execution_count": null,
   "metadata": {},
   "outputs": [
    {
     "name": "stdout",
     "output_type": "stream",
     "text": [
      "Epoch 1/10\n",
      "19906/19906 [==============================] - 13910s 699ms/step - loss: 0.4915 - acc: 0.7956\n",
      "Epoch 2/10\n",
      "19906/19906 [==============================] - 46564s 2s/step - loss: 0.2621 - acc: 0.8972\n",
      "Epoch 3/10\n",
      "19906/19906 [==============================] - 10800s 543ms/step - loss: 0.1847 - acc: 0.9295\n",
      "Epoch 4/10\n",
      "  293/19906 [..............................] - ETA: 2:10:52 - loss: 0.1623 - acc: 0.9356"
     ]
    }
   ],
   "source": [
    "classifier.fit_generator(training_set,\n",
    "                         steps_per_epoch = 19906,\n",
    "                         epochs = 10,\n",
    "                         callbacks=[mcp])"
   ]
  },
  {
   "cell_type": "code",
   "execution_count": null,
   "metadata": {},
   "outputs": [],
   "source": []
  }
 ],
 "metadata": {
  "kernelspec": {
   "display_name": "Python 3",
   "language": "python",
   "name": "python3"
  },
  "language_info": {
   "codemirror_mode": {
    "name": "ipython",
    "version": 3
   },
   "file_extension": ".py",
   "mimetype": "text/x-python",
   "name": "python",
   "nbconvert_exporter": "python",
   "pygments_lexer": "ipython3",
   "version": "3.6.6"
  }
 },
 "nbformat": 4,
 "nbformat_minor": 2
}
